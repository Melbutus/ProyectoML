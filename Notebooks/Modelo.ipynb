{
 "cells": [
  {
   "cell_type": "code",
   "execution_count": 21,
   "metadata": {},
   "outputs": [],
   "source": [
    "import pandas as pd\n",
    "import numpy as np\n",
    "from sklearn.metrics.pairwise import cosine_similarity\n",
    "from sklearn.preprocessing import MinMaxScaler\n",
    "import os\n",
    "import warnings\n",
    "import unidecode\n",
    "\n",
    "warnings.filterwarnings(\"ignore\")\n",
    "\n",
    "# Cargar datasets preprocesados\n",
    "df_completo = pd.read_parquet(r'../Datasets/dataset_completo.parquet')"
   ]
  },
  {
   "cell_type": "code",
   "execution_count": 22,
   "metadata": {},
   "outputs": [],
   "source": [
    "# Crear la matriz de características basada en las columnas relevantes\n",
    "def generar_features_matrix(df):\n",
    "    features = df[['vote_average', 'vote_count', 'popularity']].fillna(0)\n",
    "    scaler = MinMaxScaler()\n",
    "    features_scaled = scaler.fit_transform(features)\n",
    "    return features_scaled\n",
    "\n",
    "# Generar la matriz de características en memoria\n",
    "features_matrix = generar_features_matrix(df_completo)\n",
    "\n",
    "# Crear una columna de índice para asegurar que se pueda mapear correctamente\n",
    "df_completo = df_completo.reset_index(drop=True)"
   ]
  },
  {
   "cell_type": "code",
   "execution_count": 23,
   "metadata": {},
   "outputs": [],
   "source": [
    "# Función de recomendación basada en la similitud del coseno\n",
    "def recomendacion(titulo, n_recomendaciones=5):\n",
    "    try:\n",
    "        # Limpiar y normalizar el título de la película\n",
    "        titulo_normalizado = unidecode.unidecode(titulo.lower().strip())\n",
    "\n",
    "        # Buscar la película en el DataFrame\n",
    "        pelicula_idx = df_completo[df_completo['title'].str.contains(titulo_normalizado, case=False, na=False)].index\n",
    "\n",
    "        if len(pelicula_idx) == 0:\n",
    "            return {\"mensaje\": f\"El título '{titulo}' no se encuentra en el dataset.\"}\n",
    "        \n",
    "        # Obtener el índice de la película en el DataFrame\n",
    "        idx = pelicula_idx[0]\n",
    "\n",
    "        # Asegurarse de que el índice esté dentro de los límites de la matriz de características\n",
    "        if idx >= len(features_matrix):\n",
    "            return {\"mensaje\": \"Error: el índice de la película está fuera de los límites del conjunto de datos.\"}\n",
    "\n",
    "        # Calcular las similitudes utilizando la matriz de características\n",
    "        cosine_similarities = cosine_similarity([features_matrix[idx]], features_matrix).flatten()\n",
    "\n",
    "        # Verificar que el número de recomendaciones sea válido\n",
    "        n_recomendaciones = min(n_recomendaciones, len(cosine_similarities) - 1)\n",
    "\n",
    "        # Obtener los índices de las películas más similares, excluyendo la película original\n",
    "        similar_indices = cosine_similarities.argsort()[::-1][1:n_recomendaciones + 1]\n",
    "\n",
    "        # Verificar que los índices de recomendaciones están dentro del rango de filas del DataFrame\n",
    "        similar_indices = [i for i in similar_indices if i < len(df_completo)]\n",
    "\n",
    "        # Obtener los títulos de las películas recomendadas\n",
    "        recomendaciones = df_completo['title'].iloc[similar_indices].tolist()\n",
    "\n",
    "        return {\"recomendaciones\": recomendaciones}\n",
    "\n",
    "    except Exception as e:\n",
    "        return {\"mensaje\": f\"Error interno en la recomendación: {str(e)}\"}"
   ]
  },
  {
   "cell_type": "code",
   "execution_count": 24,
   "metadata": {},
   "outputs": [
    {
     "name": "stdout",
     "output_type": "stream",
     "text": [
      "{'recomendaciones': [\"the huntsman winter's war\", 'the last airbender', 'couples retreat', 'spy kids 3-d game over', \"what's eating gilbert grape\"]}\n"
     ]
    }
   ],
   "source": [
    "# Probar la función de recomendación\n",
    "resultado = recomendacion(\"twilight\")\n",
    "print(resultado)"
   ]
  }
 ],
 "metadata": {
  "kernelspec": {
   "display_name": "Python 3",
   "language": "python",
   "name": "python3"
  },
  "language_info": {
   "codemirror_mode": {
    "name": "ipython",
    "version": 3
   },
   "file_extension": ".py",
   "mimetype": "text/x-python",
   "name": "python",
   "nbconvert_exporter": "python",
   "pygments_lexer": "ipython3",
   "version": "3.12.3"
  }
 },
 "nbformat": 4,
 "nbformat_minor": 2
}
