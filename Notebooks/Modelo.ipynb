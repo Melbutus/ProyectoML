{
 "cells": [
  {
   "cell_type": "code",
   "execution_count": 12,
   "metadata": {},
   "outputs": [],
   "source": [
    "import pandas as pd\n",
    "import numpy as np\n",
    "from sklearn.metrics.pairwise import cosine_similarity\n",
    "import sklearn\n",
    "from sklearn.preprocessing import MinMaxScaler\n",
    "import unidecode\n",
    "import os\n",
    "import warnings\n",
    "warnings.filterwarnings(\"ignore\")"
   ]
  },
  {
   "cell_type": "code",
   "execution_count": 13,
   "metadata": {},
   "outputs": [],
   "source": [
    "# Cargar datasets preprocesados\n",
    "df_completo = pd.read_parquet(r'..\\Datasets\\dataset_completo.parquet')\n",
    "df_actor = pd.read_parquet(r'..\\Datasets\\actor_dataset.parquet')\n",
    "df_director = pd.read_parquet(r'..\\Datasets\\director_dataset.parquet')"
   ]
  },
  {
   "cell_type": "code",
   "execution_count": 14,
   "metadata": {},
   "outputs": [],
   "source": [
    "# Función para normalizar el título antes de buscarlo en el dataset (incluso si hay diferencias en mayúsculas o acentos)\n",
    "def limpiar_texto_completo(texto):\n",
    "    if pd.isnull(texto):\n",
    "        return None\n",
    "    try:\n",
    "        texto = str(texto).lower().strip()\n",
    "        texto = ' '.join(texto.split())  # Eliminar espacios extra\n",
    "        texto = unidecode.unidecode(texto)  # Eliminar caracteres especiales\n",
    "    except Exception as e:\n",
    "        print(f\"Error procesando el texto: {texto}, Error: {e}\")\n",
    "        return None \n",
    "    return texto\n",
    "\n",
    "# Aplicar limpieza de texto en nombres de actores y directores\n",
    "df_actor['actor_name'] = df_actor['actor_name'].apply(limpiar_texto_completo)\n",
    "df_director['director_name'] = df_director['director_name'].apply(limpiar_texto_completo)\n",
    "\n",
    "# Crear la matriz de características basada en TF-IDF o características numéricas\n",
    "# Suponiendo que ya tienes el TF-IDF entrenado\n",
    "features_matrix = ...  # Esto debe generarse a partir de tu TF-IDF o características numéricas normalizadas"
   ]
  },
  {
   "cell_type": "code",
   "execution_count": 15,
   "metadata": {},
   "outputs": [],
   "source": [
    "# Función de recomendación\n",
    "def recomendacion(titulo, n_recomendaciones=5):\n",
    "    try:\n",
    "        # Limpiar y normalizar el título de la película\n",
    "        titulo_normalizado = limpiar_texto_completo(titulo)\n",
    "        \n",
    "        # Verificar si el título existe en el dataset\n",
    "        pelicula_idx = df_completo[df_completo['title'].str.contains(titulo_normalizado, case=False, na=False)].index\n",
    "        \n",
    "        if pelicula_idx.empty:\n",
    "            return {\"mensaje\": f\"El título '{titulo}' no se encuentra en el dataset.\"}\n",
    "        \n",
    "        # Obtener el índice de la película en el dataset\n",
    "        idx = pelicula_idx[0]\n",
    "        \n",
    "        # Calcular las similitudes utilizando la matriz de características\n",
    "        cosine_similarities = cosine_similarity([features_matrix[idx]], features_matrix).flatten()\n",
    "        \n",
    "        # Obtener los índices de las películas más similares y evitar repetir la misma película\n",
    "        similar_indices = cosine_similarities.argsort()[::-1][1:n_recomendaciones + 1]\n",
    "        \n",
    "        # Obtener los títulos de las películas recomendadas\n",
    "        recomendaciones = df_completo['title'].iloc[similar_indices].tolist()\n",
    "        \n",
    "        return {\"recomendaciones\": recomendaciones}\n",
    "    \n",
    "    except Exception as e:\n",
    "        return {\"mensaje\": f\"Error interno en la recomendación: {str(e)}\"}"
   ]
  },
  {
   "cell_type": "code",
   "execution_count": 16,
   "metadata": {},
   "outputs": [
    {
     "name": "stdout",
     "output_type": "stream",
     "text": [
      "Archivo cargado desde: c:\\Users\\Usuario\\OneDrive\\Escritorio\\proyecto\\Datasets\\features_matrix.parquet\n"
     ]
    }
   ],
   "source": [
    "# Ruta relativa para la carpeta Datasets\n",
    "datasets_dir = os.path.abspath(os.path.join('..', 'Datasets'))\n",
    "\n",
    "# Verifica si el archivo Parquet existe en la ruta especificada\n",
    "file_path = os.path.join(datasets_dir, 'features_matrix.parquet')\n",
    "\n",
    "try:\n",
    "    if os.path.exists(file_path):\n",
    "        # Si el archivo existe, cargar la matriz desde el archivo Parquet\n",
    "        features_df = pd.read_parquet(file_path)\n",
    "        print(f\"Archivo cargado desde: {file_path}\")\n",
    "    else:\n",
    "        raise FileNotFoundError\n",
    "except FileNotFoundError:\n",
    "    # Si el archivo no existe o hay un error, genera y guarda la matriz de características\n",
    "    print(f\"Archivo no encontrado. Generando nueva matriz y guardando en: {file_path}\")\n",
    "    \n",
    "    # Selecciona las columnas relevantes para la recomendación\n",
    "    features = df_completo[['vote_average', 'vote_count']]\n",
    "\n",
    "    # Normaliza las columnas seleccionadas\n",
    "    scaler = MinMaxScaler()\n",
    "    features_scaled = scaler.fit_transform(features)\n",
    "\n",
    "    # Convertir la matriz de características a un DataFrame de pandas\n",
    "    features_df = pd.DataFrame(features_scaled, columns=['vote_average', 'vote_count'])\n",
    "\n",
    "    # Asegura que la carpeta Datasets exista antes de guardar\n",
    "    os.makedirs(datasets_dir, exist_ok=True)\n",
    "\n",
    "    # Guardar la matriz de características en un archivo Parquet en la ruta relativa\n",
    "    features_df.to_parquet(file_path)\n",
    "    print(f\"Archivo guardado en: {file_path}\")\n",
    "\n",
    "except Exception as e:\n",
    "    # Manejo de otros posibles errores\n",
    "    print(f\"Ocurrió un error: {e}\")"
   ]
  },
  {
   "cell_type": "code",
   "execution_count": 17,
   "metadata": {},
   "outputs": [],
   "source": [
    "# Guardar el dataset en formato Parquet\n",
    "df_completo.to_parquet(r'..\\Datasets\\dataset_completo.parquet')"
   ]
  }
 ],
 "metadata": {
  "kernelspec": {
   "display_name": "Python 3",
   "language": "python",
   "name": "python3"
  },
  "language_info": {
   "codemirror_mode": {
    "name": "ipython",
    "version": 3
   },
   "file_extension": ".py",
   "mimetype": "text/x-python",
   "name": "python",
   "nbconvert_exporter": "python",
   "pygments_lexer": "ipython3",
   "version": "3.12.3"
  }
 },
 "nbformat": 4,
 "nbformat_minor": 2
}
