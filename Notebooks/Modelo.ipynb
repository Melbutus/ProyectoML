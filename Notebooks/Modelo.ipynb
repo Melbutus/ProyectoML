{
 "cells": [
  {
   "cell_type": "code",
   "execution_count": 65,
   "metadata": {},
   "outputs": [
    {
     "name": "stdout",
     "output_type": "stream",
     "text": [
      "{'recomendaciones': ['motherhood', 'bratz', 'fandango', 'i am omega', 'kung fu dunk']}\n"
     ]
    }
   ],
   "source": [
    "import pandas as pd\n",
    "import numpy as np\n",
    "from sklearn.metrics.pairwise import cosine_similarity\n",
    "from sklearn.preprocessing import MinMaxScaler\n",
    "import unidecode\n",
    "import os\n",
    "import re\n",
    "import warnings\n",
    "\n",
    "warnings.filterwarnings(\"ignore\")\n",
    "\n",
    "# Cargar datasets preprocesados\n",
    "df_completo = pd.read_parquet(r'../Datasets/dataset_completo.parquet')\n",
    "\n",
    "def limpiar_texto_completo(texto):\n",
    "    if pd.isnull(texto):\n",
    "        return None\n",
    "    try:\n",
    "        texto = str(texto).lower().strip()  # Convertir a minúsculas y eliminar espacios al inicio y al final\n",
    "        texto = ' '.join(texto.split())  # Normalizar espacios adicionales\n",
    "        texto = unidecode.unidecode(texto)  # Eliminar acentos y caracteres especiales\n",
    "        # Eliminar solo números aislados al principio del título, pero no secuencias como \"1991\" dentro del cuerpo del título\n",
    "        texto = re.sub(r'^\\d+\\s+', '', texto)  # Eliminar números si están seguidos por un espacio\n",
    "        texto = re.sub(r'[^A-Za-z0-9\\s.,\\'-]', '', texto)  # Eliminar símbolos especiales\n",
    "        texto = texto.strip()  # Eliminar espacios residuales tras la limpieza\n",
    "    except Exception as e:\n",
    "        print(f\"Error procesando el texto: {texto}, Error: {e}\")\n",
    "        return None \n",
    "    return texto\n",
    "\n",
    "\n",
    "df_completo['title_normalizado'] = df_completo['title'].apply(limpiar_texto_completo) # actualizar\n",
    "\n",
    "# Verificar si 'title_normalizado' se ha creado correctamente\n",
    "if 'title_normalizado' not in df_completo.columns:\n",
    "    raise ValueError(\"La columna 'title_normalizado' no se ha creado correctamente.\")\n",
    "\n",
    "# Crear la matriz de características basada en las columnas relevantes\n",
    "def generar_features_matrix(df):\n",
    "    # Selecciona las columnas relevantes para la recomendación\n",
    "    features = df[['vote_average', 'vote_count', 'popularity']].fillna(0)  # Asegurar que no haya valores nulos\n",
    "    \n",
    "    # Normaliza las columnas seleccionadas\n",
    "    scaler = MinMaxScaler()\n",
    "    features_scaled = scaler.fit_transform(features)\n",
    "    \n",
    "    return features_scaled\n",
    "\n",
    "# Generar la matriz de características en memoria\n",
    "features_matrix = generar_features_matrix(df_completo)\n",
    "\n",
    "# Verificar si la longitud de 'features_matrix' coincide con 'df_completo'\n",
    "if len(features_matrix) != len(df_completo):\n",
    "    raise ValueError(\"La longitud de la matriz de características no coincide con la longitud del DataFrame.\")\n",
    "\n",
    "# Guardar la matriz de características si es necesario\n",
    "features_df = pd.DataFrame(features_matrix, columns=['vote_average', 'vote_count', 'popularity'])\n",
    "features_df.to_parquet('../Datasets/features_matrix.parquet', index=False)\n",
    "\n",
    "# Función de recomendación basada en la similitud del coseno\n",
    "def recomendacion(titulo, n_recomendaciones=5):\n",
    "    try:\n",
    "        # Limpiar y normalizar el título de la película\n",
    "        titulo_normalizado = limpiar_texto_completo(titulo)\n",
    "        \n",
    "        # Verificar si el título existe en el dataset\n",
    "        pelicula_idx = df_completo[df_completo['title_normalizado'].str.contains(titulo_normalizado, case=False, na=False)].index\n",
    "        \n",
    "        if pelicula_idx.empty:\n",
    "            return {\"mensaje\": f\"El título '{titulo}' no se encuentra en el dataset.\"}\n",
    "        \n",
    "        # Obtener el índice de la película en el dataset\n",
    "        idx = pelicula_idx[0]\n",
    "        \n",
    "        # Calcular las similitudes utilizando la matriz de características\n",
    "        cosine_similarities = cosine_similarity([features_matrix[idx]], features_matrix).flatten()\n",
    "        \n",
    "        # Verificar que el número de recomendaciones sea válido\n",
    "        n_recomendaciones = min(n_recomendaciones, len(cosine_similarities) - 1)\n",
    "        \n",
    "        # Obtener los índices de las películas más similares y evitar repetir la misma película\n",
    "        similar_indices = cosine_similarities.argsort()[::-1][1:n_recomendaciones + 1]\n",
    "        \n",
    "        # Obtener los títulos de las películas recomendadas\n",
    "        recomendaciones = df_completo['title'].iloc[similar_indices].tolist()\n",
    "        \n",
    "        return {\"recomendaciones\": recomendaciones}\n",
    "    \n",
    "    except Exception as e:\n",
    "        return {\"mensaje\": f\"Error interno en la recomendación: {str(e)}\"}\n",
    "\n",
    "# Probar la función de recomendación\n",
    "resultado = recomendacion(\"a passage to india\")\n",
    "print(resultado)\n"
   ]
  },
  {
   "cell_type": "code",
   "execution_count": 66,
   "metadata": {},
   "outputs": [
    {
     "name": "stdout",
     "output_type": "stream",
     "text": [
      "                             title             title_normalizado\n",
      "0  10 questions for the dalai lama  questions for the dalai lama\n",
      "1                         11-11-11                      11-11-11\n",
      "2                           131313                        131313\n",
      "3              16 years of alcohol              years of alcohol\n",
      "4              18 fingers of death              fingers of death\n",
      "5         1991 the year punk broke           the year punk broke\n",
      "6                    24 redemption                    redemption\n",
      "7                   28 hotel rooms                   hotel rooms\n",
      "8                     29th and gay                  29th and gay\n",
      "9              3 ninjas knuckle up             ninjas knuckle up\n"
     ]
    }
   ],
   "source": [
    "# Verifica algunos valores para asegurarte de que están correctos\n",
    "print(df_completo[['title', 'title_normalizado']].head(10))\n"
   ]
  }
 ],
 "metadata": {
  "kernelspec": {
   "display_name": "Python 3",
   "language": "python",
   "name": "python3"
  },
  "language_info": {
   "codemirror_mode": {
    "name": "ipython",
    "version": 3
   },
   "file_extension": ".py",
   "mimetype": "text/x-python",
   "name": "python",
   "nbconvert_exporter": "python",
   "pygments_lexer": "ipython3",
   "version": "3.12.3"
  }
 },
 "nbformat": 4,
 "nbformat_minor": 2
}
