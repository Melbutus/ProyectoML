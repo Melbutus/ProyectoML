{
 "cells": [
  {
   "cell_type": "code",
   "execution_count": 46,
   "metadata": {},
   "outputs": [
    {
     "name": "stdout",
     "output_type": "stream",
     "text": [
      "                  title     title_normalizado\n",
      "0                                            \n",
      "1                     a                     a\n",
      "2    a ballerina's tale    a ballerina's tale\n",
      "3        a beast at bay        a beast at bay\n",
      "4    a beautiful planet    a beautiful planet\n",
      "5      a bell for adano      a bell for adano\n",
      "6   a better way to die   a better way to die\n",
      "7        a brief season        a brief season\n",
      "8  a bright shining lie  a bright shining lie\n",
      "9   a bunch of amateurs   a bunch of amateurs\n",
      "Buscando el título: a girl like her\n",
      "{'recomendaciones': ['dreamer inspired by a true story', 'in cold blood', 'daydream nation', 'bucky larson born to be a star', 'return to me']}\n"
     ]
    }
   ],
   "source": [
    "import pandas as pd\n",
    "import numpy as np\n",
    "from sklearn.metrics.pairwise import cosine_similarity\n",
    "from sklearn.preprocessing import MinMaxScaler\n",
    "import unidecode\n",
    "import os\n",
    "import warnings\n",
    "\n",
    "warnings.filterwarnings(\"ignore\")\n",
    "\n",
    "# Cargar datasets preprocesados (sin depender de features_matrix.parquet)\n",
    "df_completo = pd.read_parquet(r'..\\Datasets\\dataset_completo.parquet')\n",
    "df_actor = pd.read_parquet(r'..\\Datasets\\actor_dataset.parquet')\n",
    "df_director = pd.read_parquet(r'..\\Datasets\\director_dataset.parquet')\n",
    "\n",
    "# Función para normalizar el título antes de buscarlo en el dataset (incluso si hay diferencias en mayúsculas o acentos)\n",
    "def limpiar_texto_completo(texto):\n",
    "    if pd.isnull(texto):\n",
    "        return None\n",
    "    try:\n",
    "        texto = str(texto).lower().strip()\n",
    "        texto = ' '.join(texto.split())  # Eliminar espacios extra\n",
    "        texto = unidecode.unidecode(texto)  # Eliminar caracteres especiales\n",
    "    except Exception as e:\n",
    "        print(f\"Error procesando el texto: {texto}, Error: {e}\")\n",
    "        return None \n",
    "    return texto\n",
    "\n",
    "# Aplicar limpieza de texto en los títulos\n",
    "df_completo['title_normalizado'] = df_completo['title'].apply(limpiar_texto_completo)\n",
    "\n",
    "# Imprimir los primeros títulos normalizados para verificar\n",
    "print(df_completo[['title', 'title_normalizado']].head(10))\n",
    "\n",
    "# Crear la matriz de características basada en las columnas relevantes\n",
    "def generar_features_matrix(df):\n",
    "    # Selecciona las columnas relevantes para la recomendación\n",
    "    features = df[['vote_average', 'vote_count']]\n",
    "    \n",
    "    # Normaliza las columnas seleccionadas\n",
    "    scaler = MinMaxScaler()\n",
    "    features_scaled = scaler.fit_transform(features)\n",
    "    \n",
    "    return features_scaled\n",
    "\n",
    "# Generar la matriz de características en memoria\n",
    "features_matrix = generar_features_matrix(df_completo)\n",
    "\n",
    "# Función de recomendación basada en la similitud del coseno\n",
    "def recomendacion(titulo, n_recomendaciones=5):\n",
    "    try:\n",
    "        # Limpiar y normalizar el título de la película\n",
    "        titulo_normalizado = limpiar_texto_completo(titulo)\n",
    "        \n",
    "        # Imprimir el título que se está buscando para verificar\n",
    "        print(f\"Buscando el título: {titulo_normalizado}\")\n",
    "        \n",
    "        # Verificar si el título existe en el dataset\n",
    "        pelicula_idx = df_completo[df_completo['title_normalizado'].str.contains(titulo_normalizado, case=False, na=False)].index\n",
    "        \n",
    "        if pelicula_idx.empty:\n",
    "            return {\"mensaje\": f\"El título '{titulo}' no se encuentra en el dataset.\"}\n",
    "        \n",
    "        # Obtener el índice de la película en el dataset\n",
    "        idx = pelicula_idx[0]\n",
    "        \n",
    "        # Calcular las similitudes utilizando la matriz de características\n",
    "        cosine_similarities = cosine_similarity([features_matrix[idx]], features_matrix).flatten()\n",
    "        \n",
    "        # Obtener los índices de las películas más similares y evitar repetir la misma película\n",
    "        similar_indices = cosine_similarities.argsort()[::-1][1:n_recomendaciones + 1]\n",
    "        \n",
    "        # Obtener los títulos de las películas recomendadas\n",
    "        recomendaciones = df_completo['title'].iloc[similar_indices].tolist()\n",
    "        \n",
    "        return {\"recomendaciones\": recomendaciones}\n",
    "    \n",
    "    except Exception as e:\n",
    "        return {\"mensaje\": f\"Error interno en la recomendación: {str(e)}\"}\n",
    "\n",
    "# Usar la función de recomendación\n",
    "resultado = recomendacion(\"a girl like her\")\n",
    "print(resultado)"
   ]
  },
  {
   "cell_type": "code",
   "execution_count": 47,
   "metadata": {},
   "outputs": [
    {
     "data": {
      "text/plain": [
       "'import pandas as pd\\nimport numpy as np\\nfrom sklearn.metrics.pairwise import cosine_similarity\\nimport sklearn\\nfrom sklearn.preprocessing import MinMaxScaler\\nimport unidecode\\nimport os\\nimport warnings\\nwarnings.filterwarnings(\"ignore\")'"
      ]
     },
     "execution_count": 47,
     "metadata": {},
     "output_type": "execute_result"
    }
   ],
   "source": [
    "'''import pandas as pd\n",
    "import numpy as np\n",
    "from sklearn.metrics.pairwise import cosine_similarity\n",
    "import sklearn\n",
    "from sklearn.preprocessing import MinMaxScaler\n",
    "import unidecode\n",
    "import os\n",
    "import warnings\n",
    "warnings.filterwarnings(\"ignore\")'''"
   ]
  },
  {
   "cell_type": "code",
   "execution_count": 48,
   "metadata": {},
   "outputs": [
    {
     "data": {
      "text/plain": [
       "\" Cargar datasets preprocesados\\ndf_completo = pd.read_parquet(r'..\\\\Datasets\\\\dataset_completo.parquet')\\ndf_actor = pd.read_parquet(r'..\\\\Datasets\\x07ctor_dataset.parquet')\\ndf_director = pd.read_parquet(r'..\\\\Datasets\\\\director_dataset.parquet')\""
      ]
     },
     "execution_count": 48,
     "metadata": {},
     "output_type": "execute_result"
    }
   ],
   "source": [
    "''' Cargar datasets preprocesados\n",
    "df_completo = pd.read_parquet(r'..\\Datasets\\dataset_completo.parquet')\n",
    "df_actor = pd.read_parquet(r'..\\Datasets\\actor_dataset.parquet')\n",
    "df_director = pd.read_parquet(r'..\\Datasets\\director_dataset.parquet')'''"
   ]
  },
  {
   "cell_type": "code",
   "execution_count": 49,
   "metadata": {},
   "outputs": [
    {
     "data": {
      "text/plain": [
       "'# Función para normalizar el título antes de buscarlo en el dataset (incluso si hay diferencias en mayúsculas o acentos)\\ndef limpiar_texto_completo(texto):\\n    if pd.isnull(texto):\\n        return None\\n    try:\\n        texto = str(texto).lower().strip()\\n        texto = \\' \\'.join(texto.split())  # Eliminar espacios extra\\n        texto = unidecode.unidecode(texto)  # Eliminar caracteres especiales\\n    except Exception as e:\\n        print(f\"Error procesando el texto: {texto}, Error: {e}\")\\n        return None \\n    return texto\\n\\n# Aplicar limpieza de texto en nombres de actores y directores\\ndf_actor[\\'actor_name\\'] = df_actor[\\'actor_name\\'].apply(limpiar_texto_completo)\\ndf_director[\\'director_name\\'] = df_director[\\'director_name\\'].apply(limpiar_texto_completo)\\n\\n# Crear la matriz de características basada en TF-IDF o características numéricas\\n# Suponiendo que ya tienes el TF-IDF entrenado\\nfeatures_matrix = ...  # Esto debe generarse a partir de tu TF-IDF o características numéricas normalizadas'"
      ]
     },
     "execution_count": 49,
     "metadata": {},
     "output_type": "execute_result"
    }
   ],
   "source": [
    "'''# Función para normalizar el título antes de buscarlo en el dataset (incluso si hay diferencias en mayúsculas o acentos)\n",
    "def limpiar_texto_completo(texto):\n",
    "    if pd.isnull(texto):\n",
    "        return None\n",
    "    try:\n",
    "        texto = str(texto).lower().strip()\n",
    "        texto = ' '.join(texto.split())  # Eliminar espacios extra\n",
    "        texto = unidecode.unidecode(texto)  # Eliminar caracteres especiales\n",
    "    except Exception as e:\n",
    "        print(f\"Error procesando el texto: {texto}, Error: {e}\")\n",
    "        return None \n",
    "    return texto\n",
    "\n",
    "# Aplicar limpieza de texto en nombres de actores y directores\n",
    "df_actor['actor_name'] = df_actor['actor_name'].apply(limpiar_texto_completo)\n",
    "df_director['director_name'] = df_director['director_name'].apply(limpiar_texto_completo)\n",
    "\n",
    "# Crear la matriz de características basada en TF-IDF o características numéricas\n",
    "# Suponiendo que ya tienes el TF-IDF entrenado\n",
    "features_matrix = ...  # Esto debe generarse a partir de tu TF-IDF o características numéricas normalizadas'''"
   ]
  },
  {
   "cell_type": "code",
   "execution_count": 50,
   "metadata": {},
   "outputs": [
    {
     "data": {
      "text/plain": [
       "'# Función de recomendación\\ndef recomendacion(titulo, n_recomendaciones=5):\\n    try:\\n        # Limpiar y normalizar el título de la película\\n        titulo_normalizado = limpiar_texto_completo(titulo)\\n        \\n        # Verificar si el título existe en el dataset\\n        pelicula_idx = df_completo[df_completo[\\'title\\'].str.contains(titulo_normalizado, case=False, na=False)].index\\n        \\n        if pelicula_idx.empty:\\n            return {\"mensaje\": f\"El título \\'{titulo}\\' no se encuentra en el dataset.\"}\\n        \\n        # Obtener el índice de la película en el dataset\\n        idx = pelicula_idx[0]\\n        \\n        # Calcular las similitudes utilizando la matriz de características\\n        cosine_similarities = cosine_similarity([features_matrix[idx]], features_matrix).flatten()\\n        \\n        # Obtener los índices de las películas más similares y evitar repetir la misma película\\n        similar_indices = cosine_similarities.argsort()[::-1][1:n_recomendaciones + 1]\\n        \\n        # Obtener los títulos de las películas recomendadas\\n        recomendaciones = df_completo[\\'title\\'].iloc[similar_indices].tolist()\\n        \\n        return {\"recomendaciones\": recomendaciones}\\n    \\n    except Exception as e:\\n        return {\"mensaje\": f\"Error interno en la recomendación: {str(e)}\"}'"
      ]
     },
     "execution_count": 50,
     "metadata": {},
     "output_type": "execute_result"
    }
   ],
   "source": [
    "'''# Función de recomendación\n",
    "def recomendacion(titulo, n_recomendaciones=5):\n",
    "    try:\n",
    "        # Limpiar y normalizar el título de la película\n",
    "        titulo_normalizado = limpiar_texto_completo(titulo)\n",
    "        \n",
    "        # Verificar si el título existe en el dataset\n",
    "        pelicula_idx = df_completo[df_completo['title'].str.contains(titulo_normalizado, case=False, na=False)].index\n",
    "        \n",
    "        if pelicula_idx.empty:\n",
    "            return {\"mensaje\": f\"El título '{titulo}' no se encuentra en el dataset.\"}\n",
    "        \n",
    "        # Obtener el índice de la película en el dataset\n",
    "        idx = pelicula_idx[0]\n",
    "        \n",
    "        # Calcular las similitudes utilizando la matriz de características\n",
    "        cosine_similarities = cosine_similarity([features_matrix[idx]], features_matrix).flatten()\n",
    "        \n",
    "        # Obtener los índices de las películas más similares y evitar repetir la misma película\n",
    "        similar_indices = cosine_similarities.argsort()[::-1][1:n_recomendaciones + 1]\n",
    "        \n",
    "        # Obtener los títulos de las películas recomendadas\n",
    "        recomendaciones = df_completo['title'].iloc[similar_indices].tolist()\n",
    "        \n",
    "        return {\"recomendaciones\": recomendaciones}\n",
    "    \n",
    "    except Exception as e:\n",
    "        return {\"mensaje\": f\"Error interno en la recomendación: {str(e)}\"}'''"
   ]
  },
  {
   "cell_type": "code",
   "execution_count": 51,
   "metadata": {},
   "outputs": [
    {
     "data": {
      "text/plain": [
       "'# Ruta relativa para la carpeta Datasets\\ndatasets_dir = os.path.abspath(os.path.join(\\'..\\', \\'Datasets\\'))\\n\\n# Verifica si el archivo Parquet existe en la ruta especificada\\nfile_path = os.path.join(datasets_dir, \\'features_matrix.parquet\\')\\n\\ntry:\\n    if os.path.exists(file_path):\\n        # Si el archivo existe, cargar la matriz desde el archivo Parquet\\n        features_df = pd.read_parquet(file_path)\\n        print(f\"Archivo cargado desde: {file_path}\")\\n    else:\\n        raise FileNotFoundError\\nexcept FileNotFoundError:\\n    # Si el archivo no existe o hay un error, genera y guarda la matriz de características\\n    print(f\"Archivo no encontrado. Generando nueva matriz y guardando en: {file_path}\")\\n    \\n    # Selecciona las columnas relevantes para la recomendación\\n    features = df_completo[[\\'vote_average\\', \\'vote_count\\']]\\n\\n    # Normaliza las columnas seleccionadas\\n    scaler = MinMaxScaler()\\n    features_scaled = scaler.fit_transform(features)\\n\\n    # Convertir la matriz de características a un DataFrame de pandas\\n    features_df = pd.DataFrame(features_scaled, columns=[\\'vote_average\\', \\'vote_count\\'])\\n\\n    # Asegura que la carpeta Datasets exista antes de guardar\\n    os.makedirs(datasets_dir, exist_ok=True)\\n\\n    # Guardar la matriz de características en un archivo Parquet en la ruta relativa\\n    features_df.to_parquet(file_path)\\n    print(f\"Archivo guardado en: {file_path}\")\\n\\nexcept Exception as e:\\n    # Manejo de otros posibles errores\\n    print(f\"Ocurrió un error: {e}\")'"
      ]
     },
     "execution_count": 51,
     "metadata": {},
     "output_type": "execute_result"
    }
   ],
   "source": [
    "'''# Ruta relativa para la carpeta Datasets\n",
    "datasets_dir = os.path.abspath(os.path.join('..', 'Datasets'))\n",
    "\n",
    "# Verifica si el archivo Parquet existe en la ruta especificada\n",
    "file_path = os.path.join(datasets_dir, 'features_matrix.parquet')\n",
    "\n",
    "try:\n",
    "    if os.path.exists(file_path):\n",
    "        # Si el archivo existe, cargar la matriz desde el archivo Parquet\n",
    "        features_df = pd.read_parquet(file_path)\n",
    "        print(f\"Archivo cargado desde: {file_path}\")\n",
    "    else:\n",
    "        raise FileNotFoundError\n",
    "except FileNotFoundError:\n",
    "    # Si el archivo no existe o hay un error, genera y guarda la matriz de características\n",
    "    print(f\"Archivo no encontrado. Generando nueva matriz y guardando en: {file_path}\")\n",
    "    \n",
    "    # Selecciona las columnas relevantes para la recomendación\n",
    "    features = df_completo[['vote_average', 'vote_count']]\n",
    "\n",
    "    # Normaliza las columnas seleccionadas\n",
    "    scaler = MinMaxScaler()\n",
    "    features_scaled = scaler.fit_transform(features)\n",
    "\n",
    "    # Convertir la matriz de características a un DataFrame de pandas\n",
    "    features_df = pd.DataFrame(features_scaled, columns=['vote_average', 'vote_count'])\n",
    "\n",
    "    # Asegura que la carpeta Datasets exista antes de guardar\n",
    "    os.makedirs(datasets_dir, exist_ok=True)\n",
    "\n",
    "    # Guardar la matriz de características en un archivo Parquet en la ruta relativa\n",
    "    features_df.to_parquet(file_path)\n",
    "    print(f\"Archivo guardado en: {file_path}\")\n",
    "\n",
    "except Exception as e:\n",
    "    # Manejo de otros posibles errores\n",
    "    print(f\"Ocurrió un error: {e}\")'''"
   ]
  },
  {
   "cell_type": "code",
   "execution_count": 52,
   "metadata": {},
   "outputs": [
    {
     "data": {
      "text/plain": [
       "\"# Guardar el dataset en formato Parquet\\ndf_completo.to_parquet(r'..\\\\Datasets\\\\dataset_completo.parquet')\""
      ]
     },
     "execution_count": 52,
     "metadata": {},
     "output_type": "execute_result"
    }
   ],
   "source": [
    "'''# Guardar el dataset en formato Parquet\n",
    "df_completo.to_parquet(r'..\\Datasets\\dataset_completo.parquet')'''"
   ]
  }
 ],
 "metadata": {
  "kernelspec": {
   "display_name": "Python 3",
   "language": "python",
   "name": "python3"
  },
  "language_info": {
   "codemirror_mode": {
    "name": "ipython",
    "version": 3
   },
   "file_extension": ".py",
   "mimetype": "text/x-python",
   "name": "python",
   "nbconvert_exporter": "python",
   "pygments_lexer": "ipython3",
   "version": "3.12.3"
  }
 },
 "nbformat": 4,
 "nbformat_minor": 2
}
